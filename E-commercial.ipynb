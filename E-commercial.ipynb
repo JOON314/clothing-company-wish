{
 "cells": [
  {
   "cell_type": "code",
   "execution_count": 1,
   "id": "c0ac7f0d",
   "metadata": {},
   "outputs": [],
   "source": [
    "import pandas as pd\n",
    "import seaborn as sns\n",
    "import numpy as np\n",
    "import matplotlib.pyplot as plt"
   ]
  },
  {
   "cell_type": "code",
   "execution_count": 2,
   "id": "1f1fad19",
   "metadata": {},
   "outputs": [
    {
     "name": "stdout",
     "output_type": "stream",
     "text": [
      "<class 'pandas.core.frame.DataFrame'>\n",
      "RangeIndex: 1573 entries, 0 to 1572\n",
      "Data columns (total 43 columns):\n",
      " #   Column                        Non-Null Count  Dtype  \n",
      "---  ------                        --------------  -----  \n",
      " 0   title                         1573 non-null   object \n",
      " 1   title_orig                    1573 non-null   object \n",
      " 2   price                         1573 non-null   float64\n",
      " 3   retail_price                  1573 non-null   int64  \n",
      " 4   currency_buyer                1573 non-null   object \n",
      " 5   units_sold                    1573 non-null   int64  \n",
      " 6   uses_ad_boosts                1573 non-null   int64  \n",
      " 7   rating                        1573 non-null   float64\n",
      " 8   rating_count                  1573 non-null   int64  \n",
      " 9   rating_five_count             1528 non-null   float64\n",
      " 10  rating_four_count             1528 non-null   float64\n",
      " 11  rating_three_count            1528 non-null   float64\n",
      " 12  rating_two_count              1528 non-null   float64\n",
      " 13  rating_one_count              1528 non-null   float64\n",
      " 14  badges_count                  1573 non-null   int64  \n",
      " 15  badge_local_product           1573 non-null   int64  \n",
      " 16  badge_product_quality         1573 non-null   int64  \n",
      " 17  badge_fast_shipping           1573 non-null   int64  \n",
      " 18  tags                          1573 non-null   object \n",
      " 19  product_color                 1532 non-null   object \n",
      " 20  product_variation_size_id     1559 non-null   object \n",
      " 21  product_variation_inventory   1573 non-null   int64  \n",
      " 22  shipping_option_name          1573 non-null   object \n",
      " 23  shipping_option_price         1573 non-null   int64  \n",
      " 24  shipping_is_express           1573 non-null   int64  \n",
      " 25  countries_shipped_to          1573 non-null   int64  \n",
      " 26  inventory_total               1573 non-null   int64  \n",
      " 27  has_urgency_banner            473 non-null    float64\n",
      " 28  urgency_text                  473 non-null    object \n",
      " 29  origin_country                1556 non-null   object \n",
      " 30  merchant_title                1573 non-null   object \n",
      " 31  merchant_name                 1569 non-null   object \n",
      " 32  merchant_info_subtitle        1572 non-null   object \n",
      " 33  merchant_rating_count         1573 non-null   int64  \n",
      " 34  merchant_rating               1573 non-null   float64\n",
      " 35  merchant_id                   1573 non-null   object \n",
      " 36  merchant_has_profile_picture  1573 non-null   int64  \n",
      " 37  merchant_profile_picture      226 non-null    object \n",
      " 38  product_url                   1573 non-null   object \n",
      " 39  product_picture               1573 non-null   object \n",
      " 40  product_id                    1573 non-null   object \n",
      " 41  theme                         1573 non-null   object \n",
      " 42  crawl_month                   1573 non-null   object \n",
      "dtypes: float64(9), int64(15), object(19)\n",
      "memory usage: 528.6+ KB\n"
     ]
    }
   ],
   "source": [
    "#import data\n",
    "df=pd.read_csv('Subject_1-Summer products.csv')\n",
    "df.info()"
   ]
  },
  {
   "cell_type": "code",
   "execution_count": 3,
   "id": "cadd04c7",
   "metadata": {},
   "outputs": [
    {
     "name": "stdout",
     "output_type": "stream",
     "text": [
      "<class 'pandas.core.frame.DataFrame'>\n",
      "RangeIndex: 1573 entries, 0 to 1572\n",
      "Data columns (total 34 columns):\n",
      " #   Column                        Non-Null Count  Dtype  \n",
      "---  ------                        --------------  -----  \n",
      " 0   title_orig                    1573 non-null   object \n",
      " 1   price                         1573 non-null   float64\n",
      " 2   retail_price                  1573 non-null   int64  \n",
      " 3   currency_buyer                1573 non-null   object \n",
      " 4   units_sold                    1573 non-null   int64  \n",
      " 5   uses_ad_boosts                1573 non-null   int64  \n",
      " 6   rating                        1573 non-null   float64\n",
      " 7   rating_count                  1573 non-null   int64  \n",
      " 8   rating_five_count             1528 non-null   float64\n",
      " 9   rating_four_count             1528 non-null   float64\n",
      " 10  rating_three_count            1528 non-null   float64\n",
      " 11  rating_two_count              1528 non-null   float64\n",
      " 12  rating_one_count              1528 non-null   float64\n",
      " 13  badge_local_product           1573 non-null   int64  \n",
      " 14  badge_product_quality         1573 non-null   int64  \n",
      " 15  badge_fast_shipping           1573 non-null   int64  \n",
      " 16  tags                          1573 non-null   object \n",
      " 17  product_color                 1532 non-null   object \n",
      " 18  product_variation_size_id     1559 non-null   object \n",
      " 19  product_variation_inventory   1573 non-null   int64  \n",
      " 20  shipping_option_name          1573 non-null   object \n",
      " 21  shipping_option_price         1573 non-null   int64  \n",
      " 22  shipping_is_express           1573 non-null   int64  \n",
      " 23  countries_shipped_to          1573 non-null   int64  \n",
      " 24  inventory_total               1573 non-null   int64  \n",
      " 25  has_urgency_banner            473 non-null    float64\n",
      " 26  origin_country                1556 non-null   object \n",
      " 27  merchant_title                1573 non-null   object \n",
      " 28  merchant_rating_count         1573 non-null   int64  \n",
      " 29  merchant_rating               1573 non-null   float64\n",
      " 30  merchant_has_profile_picture  1573 non-null   int64  \n",
      " 31  product_id                    1573 non-null   object \n",
      " 32  theme                         1573 non-null   object \n",
      " 33  crawl_month                   1573 non-null   object \n",
      "dtypes: float64(9), int64(14), object(11)\n",
      "memory usage: 418.0+ KB\n"
     ]
    }
   ],
   "source": [
    "df.drop(columns=['title','badges_count',\n",
    "                 'urgency_text','merchant_name','merchant_info_subtitle','merchant_id',\n",
    "                 'merchant_profile_picture','product_url','product_picture'],inplace=True)\n",
    "df.info()"
   ]
  },
  {
   "cell_type": "code",
   "execution_count": 4,
   "id": "e96296e8",
   "metadata": {},
   "outputs": [
    {
     "name": "stdout",
     "output_type": "stream",
     "text": [
      "                                                tags category\n",
      "0  summer,fashion,womenunderwearsuit,printedpajam...    shirt\n",
      "1  mini,womens dresses,summer,patchwork,fashion d...    dress\n",
      "2  summer,cardigan,women beachwear,chiffon,sexy w...   jacket\n",
      "3  summer,shorts,cotton,cotton t shirt,sleeve,pri...    shirt\n",
      "4  summer,plus size,lace,casual pants,bottom,pant...   shorts\n"
     ]
    },
    {
     "data": {
      "application/vnd.microsoft.datawrangler.viewer.v0+json": {
       "columns": [
        {
         "name": "category",
         "rawType": "object",
         "type": "string"
        },
        {
         "name": "count",
         "rawType": "int64",
         "type": "integer"
        }
       ],
       "ref": "f1a989c5-5859-4405-95c5-fd9f307d96b2",
       "rows": [
        [
         "shirt",
         "535"
        ],
        [
         "dress",
         "381"
        ],
        [
         "shorts",
         "335"
        ],
        [
         "other",
         "151"
        ],
        [
         "swimwear",
         "84"
        ],
        [
         "pants",
         "64"
        ],
        [
         "shoe",
         "16"
        ],
        [
         "jacket",
         "4"
        ],
        [
         "skirt",
         "2"
        ],
        [
         "t-shirt",
         "1"
        ]
       ],
       "shape": {
        "columns": 1,
        "rows": 10
       }
      },
      "text/plain": [
       "category\n",
       "shirt       535\n",
       "dress       381\n",
       "shorts      335\n",
       "other       151\n",
       "swimwear     84\n",
       "pants        64\n",
       "shoe         16\n",
       "jacket        4\n",
       "skirt         2\n",
       "t-shirt       1\n",
       "Name: count, dtype: int64"
      ]
     },
     "execution_count": 4,
     "metadata": {},
     "output_type": "execute_result"
    }
   ],
   "source": [
    "#1.Clean tags: lowercasing, stripping spaces\n",
    "df['tags'] = df['tags'].str.lower().str.strip()\n",
    "\n",
    "#2. Define keywords for each category\n",
    "category_keywords = {\n",
    "    'shirt': ['shirt', 'blouse'],\n",
    "    't-shirt': ['t-shirt', 'tee'],\n",
    "    'shoe': ['shoe', 'sneaker', 'footwear'],\n",
    "    'jacket': ['jacket', 'coat', 'windbreaker'],\n",
    "    'shorts': ['shorts'],\n",
    "    'dress': ['dress', 'gown'],\n",
    "    'pants': ['pants', 'trousers'],\n",
    "    'skirt': ['skirt'],\n",
    "    'swimwear': ['swim', 'bikini', 'trunks'],\n",
    "}\n",
    "\n",
    "#3. Function to assign category based on tags\n",
    "def categorize_product(tags):\n",
    "    tags = str(tags).lower()\n",
    "    for category, keywords in category_keywords.items():\n",
    "        if any(keyword in tags for keyword in keywords):\n",
    "            return category\n",
    "    return 'other'\n",
    "\n",
    "#4. Apply function to new column\n",
    "df['category'] = df['tags'].apply(categorize_product)\n",
    "\n",
    "# View result\n",
    "print(df[['tags', 'category']].head())\n",
    "\n",
    "# Save the cleaned dataset\n",
    "df.to_csv('categorized_products.csv', index=False)\n",
    "df['category'].value_counts()\n"
   ]
  },
  {
   "cell_type": "code",
   "execution_count": 5,
   "id": "70043a21",
   "metadata": {},
   "outputs": [
    {
     "name": "stdout",
     "output_type": "stream",
     "text": [
      "product_color\n",
      "black         305\n",
      "white         257\n",
      "yellow        105\n",
      "pink          101\n",
      "blue          100\n",
      "             ... \n",
      "violet          1\n",
      "blackwhite      1\n",
      "darkgreen       1\n",
      "rosegold        1\n",
      "gold            1\n",
      "Name: count, Length: 87, dtype: int64\n",
      "product_color\n",
      "black          317\n",
      "other color    280\n",
      "white          270\n",
      "pink           109\n",
      "yellow         105\n",
      "blue           101\n",
      "red             95\n",
      "green           90\n",
      "grey            83\n",
      "purple          53\n",
      "orange          28\n",
      "multicolor      20\n",
      "beige           14\n",
      "brown            8\n",
      "Name: count, dtype: int64\n"
     ]
    },
    {
     "name": "stderr",
     "output_type": "stream",
     "text": [
      "C:\\Users\\Acer\\AppData\\Local\\Temp\\ipykernel_245636\\2921563920.py:5: FutureWarning: A value is trying to be set on a copy of a DataFrame or Series through chained assignment using an inplace method.\n",
      "The behavior will change in pandas 3.0. This inplace method will never work because the intermediate object on which we are setting values always behaves as a copy.\n",
      "\n",
      "For example, when doing 'df[col].method(value, inplace=True)', try using 'df.method({col: value}, inplace=True)' or df[col] = df[col].method(value) instead, to perform the operation inplace on the original object.\n",
      "\n",
      "\n",
      "  df['product_color'].fillna('Unknown', inplace=True)\n",
      "C:\\Users\\Acer\\AppData\\Local\\Temp\\ipykernel_245636\\2921563920.py:22: FutureWarning: A value is trying to be set on a copy of a DataFrame or Series through chained assignment using an inplace method.\n",
      "The behavior will change in pandas 3.0. This inplace method will never work because the intermediate object on which we are setting values always behaves as a copy.\n",
      "\n",
      "For example, when doing 'df[col].method(value, inplace=True)', try using 'df.method({col: value}, inplace=True)' or df[col] = df[col].method(value) instead, to perform the operation inplace on the original object.\n",
      "\n",
      "\n",
      "  df['product_color'].fillna('unknown', inplace=True)\n"
     ]
    }
   ],
   "source": [
    "#1. Standardize Color Formatting\n",
    "# Remove extra spaces, special characters, and inconsistent naming:\n",
    "df['product_color'] = df['product_color'].str.lower().str.strip()\n",
    "#2. Handle Missing Color Values - Fill blank colors with 'Unknown':\n",
    "df['product_color'].fillna('Unknown', inplace=True)\n",
    "#3. Remove Unnecessary Color Combinations.If colors like 'black & yellow' or 'pink & grey' are unhelpful, split them:\n",
    "df['product_color'] = df['product_color'].str.split('&').str[0]\n",
    "#4. Get a Summary of Cleaned Colors. Count occurrences of each color:\n",
    "color_counts = df['product_color'].value_counts()\n",
    "print(color_counts)\n",
    "# 5.Normalize Color Names. Convert to lowercase and remove extra spaces:\n",
    "df['product_color'] = df['product_color'].str.lower().str.strip()\n",
    "#6. Consolidate Similar Colors Map multiple variations to a common name:\n",
    "color_mapping = {\n",
    "    'winered': 'wine red', 'navyblue': 'navy blue', 'fluorescentgreen': 'fluorescent green',\n",
    "    'lightgreen': 'light green', 'lightblue': 'light blue', 'lightpink': 'light pink',\n",
    "    'rosered': 'rose red', 'army green': 'armygreen', 'darkgreen': 'dark green',\n",
    "    'blackwhite': 'black & white', 'gray': 'grey'\n",
    "}\n",
    "df['product_color'] = df['product_color'].replace(color_mapping)\n",
    "# 7. Handle Blank or Unknown Entries.Fill missing colors with 'Unknown':\n",
    "df['product_color'].fillna('unknown', inplace=True)\n",
    "#8. Remove Extremely Rare or Irrelevant Colors.Filter out uncommon color names (if necessary):\n",
    "common_colors = ['black', 'white', 'red', 'blue', 'green', 'grey', 'pink', 'purple', 'orange', 'beige', 'brown', 'yellow', 'multicolor']\n",
    "df['product_color'] = df['product_color'].apply(lambda x: x if x in common_colors else 'other color')\n",
    "#9. Get Cleaned Color Counts.Check the distribution after cleaning:\n",
    "color_counts = df['product_color'].value_counts()\n",
    "print(color_counts)\n"
   ]
  },
  {
   "cell_type": "code",
   "execution_count": 6,
   "id": "f7001a17",
   "metadata": {},
   "outputs": [
    {
     "name": "stdout",
     "output_type": "stream",
     "text": [
      "product_variation_size_id\n",
      "S             665\n",
      "XS            361\n",
      "M             204\n",
      "other size    149\n",
      "XXS           100\n",
      "L              50\n",
      "XL             18\n",
      "XXL            15\n",
      "XXXS            6\n",
      "XXXXXL          2\n",
      "XXXXL           2\n",
      "XXXL            1\n",
      "Name: count, dtype: int64\n"
     ]
    },
    {
     "name": "stderr",
     "output_type": "stream",
     "text": [
      "C:\\Users\\Acer\\AppData\\Local\\Temp\\ipykernel_245636\\2888265072.py:4: FutureWarning: A value is trying to be set on a copy of a DataFrame or Series through chained assignment using an inplace method.\n",
      "The behavior will change in pandas 3.0. This inplace method will never work because the intermediate object on which we are setting values always behaves as a copy.\n",
      "\n",
      "For example, when doing 'df[col].method(value, inplace=True)', try using 'df.method({col: value}, inplace=True)' or df[col] = df[col].method(value) instead, to perform the operation inplace on the original object.\n",
      "\n",
      "\n",
      "  df['product_variation_size_id'].fillna('UNKNOWN', inplace=True)\n"
     ]
    }
   ],
   "source": [
    "#1.Standardize size formatting (Remove extra spaces, dots, and inconsistent naming)\n",
    "df['product_variation_size_id'] = df['product_variation_size_id'].str.replace(r'[^a-zA-Z0-9]', '', regex=True).str.upper()\n",
    "#2.Handle missing values (Fill empty sizes with 'Unknown')\n",
    "df['product_variation_size_id'].fillna('UNKNOWN', inplace=True)\n",
    "#3.Group similar size categories (E.g., XS, X-S, SIZE XS)\n",
    "size_mapping = {\n",
    "    'XXXS': 'XXXS', 'XXS': 'XXS', 'XS': 'XS', 'S': 'S', 'M': 'M', 'L': 'L',\n",
    "    'XL': 'XL', 'XXL': 'XXL', 'XXXL': 'XXXL', 'XXXXL': 'XXXXL', 'XXXXXL': 'XXXXXL'\n",
    "}\n",
    "df['product_variation_size_id'] = df['product_variation_size_id'].replace(size_mapping)\n",
    "#4.Remove invalid or irrelevant sizes (e.g., Base Coat, Floating Chair for Kid)\n",
    "valid_sizes = ['XXXS', 'XXS', 'XS', 'S', 'M', 'L', 'XL', 'XXL', 'XXXL', 'XXXXL', 'XXXXXL']\n",
    "df['product_variation_size_id'] = df['product_variation_size_id'].apply(lambda x: x if x in valid_sizes else 'other size')\n",
    "#5.Summarize the cleaned data (Get the count for each size)\n",
    "size_counts = df['product_variation_size_id'].value_counts()\n",
    "print(size_counts)\n"
   ]
  },
  {
   "cell_type": "code",
   "execution_count": 7,
   "id": "2fcb40ab",
   "metadata": {},
   "outputs": [],
   "source": [
    "df.to_csv('Final_project.csv', index=False, encoding='utf-8-sig')"
   ]
  },
  {
   "cell_type": "code",
   "execution_count": 8,
   "id": "6a3ce23d",
   "metadata": {},
   "outputs": [
    {
     "name": "stdout",
     "output_type": "stream",
     "text": [
      "<class 'pandas.core.frame.DataFrame'>\n",
      "RangeIndex: 1573 entries, 0 to 1572\n",
      "Data columns (total 35 columns):\n",
      " #   Column                        Non-Null Count  Dtype  \n",
      "---  ------                        --------------  -----  \n",
      " 0   title_orig                    1573 non-null   object \n",
      " 1   price                         1573 non-null   float64\n",
      " 2   retail_price                  1573 non-null   int64  \n",
      " 3   currency_buyer                1573 non-null   object \n",
      " 4   units_sold                    1573 non-null   int64  \n",
      " 5   uses_ad_boosts                1573 non-null   int64  \n",
      " 6   rating                        1573 non-null   float64\n",
      " 7   rating_count                  1573 non-null   int64  \n",
      " 8   rating_five_count             1528 non-null   float64\n",
      " 9   rating_four_count             1528 non-null   float64\n",
      " 10  rating_three_count            1528 non-null   float64\n",
      " 11  rating_two_count              1528 non-null   float64\n",
      " 12  rating_one_count              1528 non-null   float64\n",
      " 13  badge_local_product           1573 non-null   int64  \n",
      " 14  badge_product_quality         1573 non-null   int64  \n",
      " 15  badge_fast_shipping           1573 non-null   int64  \n",
      " 16  tags                          1573 non-null   object \n",
      " 17  product_color                 1573 non-null   object \n",
      " 18  product_variation_size_id     1573 non-null   object \n",
      " 19  product_variation_inventory   1573 non-null   int64  \n",
      " 20  shipping_option_name          1573 non-null   object \n",
      " 21  shipping_option_price         1573 non-null   int64  \n",
      " 22  shipping_is_express           1573 non-null   int64  \n",
      " 23  countries_shipped_to          1573 non-null   int64  \n",
      " 24  inventory_total               1573 non-null   int64  \n",
      " 25  has_urgency_banner            473 non-null    float64\n",
      " 26  origin_country                1556 non-null   object \n",
      " 27  merchant_title                1573 non-null   object \n",
      " 28  merchant_rating_count         1573 non-null   int64  \n",
      " 29  merchant_rating               1573 non-null   float64\n",
      " 30  merchant_has_profile_picture  1573 non-null   int64  \n",
      " 31  product_id                    1573 non-null   object \n",
      " 32  theme                         1573 non-null   object \n",
      " 33  crawl_month                   1573 non-null   object \n",
      " 34  category                      1573 non-null   object \n",
      "dtypes: float64(9), int64(14), object(12)\n",
      "memory usage: 430.2+ KB\n"
     ]
    }
   ],
   "source": [
    "df = pd.read_csv('Final_project.csv')\n",
    "df.info()"
   ]
  },
  {
   "cell_type": "code",
   "execution_count": 9,
   "id": "a7c9b5a4",
   "metadata": {},
   "outputs": [
    {
     "name": "stdout",
     "output_type": "stream",
     "text": [
      "<class 'pandas.core.frame.DataFrame'>\n",
      "RangeIndex: 1573 entries, 0 to 1572\n",
      "Data columns (total 36 columns):\n",
      " #   Column                        Non-Null Count  Dtype  \n",
      "---  ------                        --------------  -----  \n",
      " 0   title_orig                    1573 non-null   object \n",
      " 1   price                         1573 non-null   float64\n",
      " 2   retail_price                  1573 non-null   int64  \n",
      " 3   currency_buyer                1573 non-null   object \n",
      " 4   units_sold                    1573 non-null   int64  \n",
      " 5   uses_ad_boosts                1573 non-null   int64  \n",
      " 6   rating                        1573 non-null   float64\n",
      " 7   rating_count                  1573 non-null   int64  \n",
      " 8   rating_five_count             1528 non-null   float64\n",
      " 9   rating_four_count             1528 non-null   float64\n",
      " 10  rating_three_count            1528 non-null   float64\n",
      " 11  rating_two_count              1528 non-null   float64\n",
      " 12  rating_one_count              1528 non-null   float64\n",
      " 13  badge_local_product           1573 non-null   int64  \n",
      " 14  badge_product_quality         1573 non-null   int64  \n",
      " 15  badge_fast_shipping           1573 non-null   int64  \n",
      " 16  tags                          1573 non-null   object \n",
      " 17  product_color                 1573 non-null   object \n",
      " 18  product_variation_size_id     1573 non-null   object \n",
      " 19  product_variation_inventory   1573 non-null   int64  \n",
      " 20  shipping_option_name          1573 non-null   object \n",
      " 21  shipping_option_price         1573 non-null   int64  \n",
      " 22  shipping_is_express           1573 non-null   int64  \n",
      " 23  countries_shipped_to          1573 non-null   int64  \n",
      " 24  inventory_total               1573 non-null   int64  \n",
      " 25  has_urgency_banner            473 non-null    float64\n",
      " 26  origin_country                1556 non-null   object \n",
      " 27  merchant_title                1573 non-null   object \n",
      " 28  merchant_rating_count         1573 non-null   int64  \n",
      " 29  merchant_rating               1573 non-null   float64\n",
      " 30  merchant_has_profile_picture  1573 non-null   int64  \n",
      " 31  product_id                    1573 non-null   object \n",
      " 32  theme                         1573 non-null   object \n",
      " 33  crawl_month                   1573 non-null   object \n",
      " 34  category                      1573 non-null   object \n",
      " 35  status_rate                   1573 non-null   object \n",
      "dtypes: float64(9), int64(14), object(13)\n",
      "memory usage: 442.5+ KB\n"
     ]
    }
   ],
   "source": [
    "\n",
    "where = [(df['rating_count']>=1500),\n",
    "         (df['rating_count']<1500)&(df['rating_count']>=1000),\n",
    "         (df['rating_count']<1000)&(df['rating_count']>=500),\n",
    "         (df['rating_count']<500)&(df['rating_count']>=100),\n",
    "         (df['rating_count']<100)&(df['rating_count']>=10),\n",
    "         (df['rating_count']<10)]\n",
    "choices = ['1500-','1500-1000','1000-500','500-100','100-10','-10']\n",
    "df['status_rate'] = np.select(where, choices, default='N/A')\n",
    "df['status_rate'].value_counts()\n",
    "df.to_csv('Final_project.csv',index=False)\n",
    "df.info()\n"
   ]
  },
  {
   "cell_type": "code",
   "execution_count": 10,
   "id": "f5ea9500",
   "metadata": {},
   "outputs": [
    {
     "name": "stdout",
     "output_type": "stream",
     "text": [
      "<class 'pandas.core.frame.DataFrame'>\n",
      "RangeIndex: 1573 entries, 0 to 1572\n",
      "Data columns (total 37 columns):\n",
      " #   Column                        Non-Null Count  Dtype  \n",
      "---  ------                        --------------  -----  \n",
      " 0   title_orig                    1573 non-null   object \n",
      " 1   price                         1573 non-null   float64\n",
      " 2   retail_price                  1573 non-null   int64  \n",
      " 3   currency_buyer                1573 non-null   object \n",
      " 4   units_sold                    1573 non-null   int64  \n",
      " 5   uses_ad_boosts                1573 non-null   int64  \n",
      " 6   rating                        1573 non-null   float64\n",
      " 7   rating_count                  1573 non-null   int64  \n",
      " 8   rating_five_count             1528 non-null   float64\n",
      " 9   rating_four_count             1528 non-null   float64\n",
      " 10  rating_three_count            1528 non-null   float64\n",
      " 11  rating_two_count              1528 non-null   float64\n",
      " 12  rating_one_count              1528 non-null   float64\n",
      " 13  badge_local_product           1573 non-null   int64  \n",
      " 14  badge_product_quality         1573 non-null   int64  \n",
      " 15  badge_fast_shipping           1573 non-null   int64  \n",
      " 16  tags                          1573 non-null   object \n",
      " 17  product_color                 1573 non-null   object \n",
      " 18  product_variation_size_id     1573 non-null   object \n",
      " 19  product_variation_inventory   1573 non-null   int64  \n",
      " 20  shipping_option_name          1573 non-null   object \n",
      " 21  shipping_option_price         1573 non-null   int64  \n",
      " 22  shipping_is_express           1573 non-null   int64  \n",
      " 23  countries_shipped_to          1573 non-null   int64  \n",
      " 24  inventory_total               1573 non-null   int64  \n",
      " 25  has_urgency_banner            473 non-null    float64\n",
      " 26  origin_country                1556 non-null   object \n",
      " 27  merchant_title                1573 non-null   object \n",
      " 28  merchant_rating_count         1573 non-null   int64  \n",
      " 29  merchant_rating               1573 non-null   float64\n",
      " 30  merchant_has_profile_picture  1573 non-null   int64  \n",
      " 31  product_id                    1573 non-null   object \n",
      " 32  theme                         1573 non-null   object \n",
      " 33  crawl_month                   1573 non-null   object \n",
      " 34  category                      1573 non-null   object \n",
      " 35  status_rate                   1573 non-null   object \n",
      " 36  origin_country_name           1573 non-null   object \n",
      "dtypes: float64(9), int64(14), object(14)\n",
      "memory usage: 454.8+ KB\n"
     ]
    }
   ],
   "source": [
    "\n",
    "where = [(df['origin_country']=='CN'),\n",
    "         (df['origin_country']=='GB'),\n",
    "         (df['origin_country']=='SG'),\n",
    "         (df['origin_country']=='US'),\n",
    "         (df['origin_country']=='VE'),(df['origin_country']=='AT')\n",
    "         ]\n",
    "choices = ['China','Great Britain','Singapore','United States','Venezuela','Austria']\n",
    "df['origin_country_name'] = np.select(where, choices, default='N/A')\n",
    "df['origin_country_name'].value_counts()\n",
    "df.to_csv('Final_project.csv',index=False)\n",
    "df.info()\n"
   ]
  },
  {
   "cell_type": "code",
   "execution_count": 11,
   "id": "008996de",
   "metadata": {},
   "outputs": [],
   "source": [
    "bins = list(range(0, int(df['price'].max()) + 5, 5))\n",
    "labels = [f\"{bins[i]}-{bins[i+1]}\" for i in range(len(bins)-1)]\n",
    "\n",
    "df['price_group'] = pd.cut(df['price'], bins=bins, right=False, labels=labels)\n",
    "df['price_group']\n",
    "df.to_csv('Final_project.csv',index=False)"
   ]
  },
  {
   "cell_type": "code",
   "execution_count": 12,
   "id": "3cae4536",
   "metadata": {},
   "outputs": [],
   "source": [
    "# Define price bins and labels\n",
    "bins = [0, 5, 10, 15, 20, float('inf')]  # 'inf' represents prices over 20 dollars\n",
    "labels = [\"0-5\", \"6-10\", \"11-15\", \"16-20\", \"20+\"]\n",
    "\n",
    "# Apply pd.cut() to categorize prices\n",
    "df['price_group'] = pd.cut(df['price'], bins=bins, right=True, labels=labels)\n",
    "df['price_group']\n",
    "df.to_csv('Final_project.csv',index=False)"
   ]
  },
  {
   "cell_type": "code",
   "execution_count": 13,
   "id": "6a9bd932",
   "metadata": {},
   "outputs": [
    {
     "data": {
      "application/vnd.microsoft.datawrangler.viewer.v0+json": {
       "columns": [
        {
         "name": "price_group",
         "rawType": "category",
         "type": "unknown"
        },
        {
         "name": "count",
         "rawType": "int64",
         "type": "integer"
        }
       ],
       "ref": "bcdb4008-7a3d-4aa6-a8e4-aef1099d1a78",
       "rows": [
        [
         "6-10",
         "762"
        ],
        [
         "11-15",
         "416"
        ],
        [
         "0-5",
         "323"
        ],
        [
         "16-20",
         "63"
        ],
        [
         "20+",
         "9"
        ]
       ],
       "shape": {
        "columns": 1,
        "rows": 5
       }
      },
      "text/plain": [
       "price_group\n",
       "6-10     762\n",
       "11-15    416\n",
       "0-5      323\n",
       "16-20     63\n",
       "20+        9\n",
       "Name: count, dtype: int64"
      ]
     },
     "execution_count": 13,
     "metadata": {},
     "output_type": "execute_result"
    }
   ],
   "source": [
    "df['price_group'].value_counts()"
   ]
  },
  {
   "cell_type": "code",
   "execution_count": 14,
   "id": "3aeeb726",
   "metadata": {},
   "outputs": [],
   "source": [
    "df[\"revenue\"] = df[\"price\"] * df[\"units_sold\"]\n",
    "df.to_csv('Final_project.csv',index=False)"
   ]
  },
  {
   "cell_type": "code",
   "execution_count": 15,
   "id": "3897371f",
   "metadata": {},
   "outputs": [],
   "source": [
    "df['tags'] = df['tags'].astype(str)\n",
    "\n",
    "# Create new indicator columns based on the 'tags' column:\n",
    "df['Summer'] = df['tags'].apply(lambda tag: 1 if 'summer' in tag.lower() else 0)\n",
    "df['Spring'] = df['tags'].apply(lambda tag: 1 if 'spring' in tag.lower() else 0)\n",
    "df['Autumn'] = df['tags'].apply(lambda tag: 1 if ('autumn' in tag.lower() or 'fall' in tag.lower()) else 0)\n",
    "df['Winter'] = df['tags'].apply(lambda tag: 1 if 'winter' in tag.lower() else 0)\n",
    "\n",
    "# Preview to ensure the new columns are added as expected.\n",
    "df[['tags', 'Summer', 'Spring', 'Autumn', 'Winter']].head()\n",
    "df.to_csv(\"Final_project_with_season_columns.csv\", index=False)"
   ]
  },
  {
   "cell_type": "code",
   "execution_count": 16,
   "id": "e1143899",
   "metadata": {},
   "outputs": [
    {
     "data": {
      "application/vnd.microsoft.datawrangler.viewer.v0+json": {
       "columns": [
        {
         "name": "gender_category",
         "rawType": "object",
         "type": "string"
        },
        {
         "name": "count",
         "rawType": "int64",
         "type": "integer"
        }
       ],
       "ref": "502b50ab-bb3b-4b0e-b19d-a9b961defd92",
       "rows": [
        [
         "Women",
         "1416"
        ],
        [
         "Unisex",
         "86"
        ],
        [
         "Men",
         "71"
        ]
       ],
       "shape": {
        "columns": 1,
        "rows": 3
       }
      },
      "text/plain": [
       "gender_category\n",
       "Women     1416\n",
       "Unisex      86\n",
       "Men         71\n",
       "Name: count, dtype: int64"
      ]
     },
     "execution_count": 16,
     "metadata": {},
     "output_type": "execute_result"
    }
   ],
   "source": [
    "# Define keyword sets for each category\n",
    "keywords_men = {'men', 'mens','male','males', 'man','mans', 'menswear', 'boy','guy', 'guys', 'masculine', 'gents', 'gentlemen', \"men's\"}\n",
    "keywords_women = {'women','womens', 'female', 'woman','womans', 'womenswear', 'girl', 'ladies','femanine', 'lady',\"women's\",'bikini','two pieces'}\n",
    "keywords_unisex = {'unisex', 'both', 'all', 'everyone', 'anyone'}\n",
    "\n",
    "# Function to categorize based on tags\n",
    "def categorize_product(tags):\n",
    "    if pd.isna(tags):\n",
    "        return 'Unisex'\n",
    "    \n",
    "    tags_lower = tags.lower()\n",
    "    tag_tokens = set(tags_lower.replace(\",\", \" \").split())\n",
    "#\n",
    "    is_men = any(word in tag_tokens for word in keywords_men)\n",
    "    is_women = any(word in tag_tokens for word in keywords_women)\n",
    "    is_unisex = any(word in tag_tokens for word in keywords_unisex)\n",
    "\n",
    "    if is_unisex or (is_men and is_women):\n",
    "        return 'Unisex'\n",
    "    elif is_men:\n",
    "        return 'Men'\n",
    "    elif is_women:\n",
    "        return 'Women'\n",
    "    else:\n",
    "        return 'Unisex'\n",
    "\n",
    "# Apply the function to create a new column\n",
    "df['gender_category'] = df['tags'].apply(categorize_product)\n",
    "\n",
    "# Show distribution of categories\n",
    "df['gender_category'].value_counts()"
   ]
  },
  {
   "cell_type": "code",
   "execution_count": 17,
   "id": "da9584e6",
   "metadata": {},
   "outputs": [],
   "source": [
    "# Mapping values ad status\n",
    "df['ad_status'] = df['uses_ad_boosts'].map({0: \"No Ad\", 1: \"Ad Boosts\"})\n",
    "\n",
    "# Mapping value merchant has profile picture\n",
    "df['profile_picture'] = df['merchant_has_profile_picture'].map({0: \"No Profile Picture\", 1: \"Has Profile Picture\"})"
   ]
  },
  {
   "cell_type": "code",
   "execution_count": 18,
   "id": "5fdea021",
   "metadata": {},
   "outputs": [],
   "source": [
    "# Calculate revenue based on price and units sold\n",
    "df[\"revenue\"] = df[\"price\"] * df[\"units_sold\"]\n",
    "# Calculate difference between price and retail_price\n",
    "df[\"price_difference\"] = df[\"price\"] - df[\"retail_price\"]"
   ]
  },
  {
   "cell_type": "code",
   "execution_count": 19,
   "id": "e6b29859",
   "metadata": {},
   "outputs": [
    {
     "name": "stderr",
     "output_type": "stream",
     "text": [
      "C:\\Users\\Acer\\AppData\\Local\\Temp\\ipykernel_245636\\3519910343.py:8: FutureWarning: The default of observed=False is deprecated and will be changed to True in a future version of pandas. Pass observed=False to retain current behavior or observed=True to adopt the future default and silence this warning.\n",
      "  df.groupby('high_rate_percentage_group').agg({'price':'mean','units_sold':'mean',\n"
     ]
    }
   ],
   "source": [
    "df[['rating', 'rating_five_count','rating_four_count','rating_three_count' ,'rating_two_count', 'rating_one_count', 'rating_count']]\n",
    "df['high_rate_percentage'] = ((df['rating_five_count']+df['rating_four_count'])/df['rating_count'] * 100).round(2)\n",
    "bins = [0,20,40,60,80,100]\n",
    "labels = ['E','D','C','B','A']\n",
    "df['high_rate_percentage_group'] = pd.cut(df['high_rate_percentage'],bins=bins,labels=labels,right=True)\n",
    "df['high_rate_percentage_group'] = df['high_rate_percentage_group'].cat.add_categories(['No rating']).fillna('No rating')\n",
    "df.to_csv(\"Final_project.csv\", index=False)\n",
    "df.groupby('high_rate_percentage_group').agg({'price':'mean','units_sold':'mean',\n",
    "                                              'revenue':'mean'}).round(2).sort_values('high_rate_percentage_group',ascending=False)\n",
    "df.to_csv('Final_project.csv',index=False)"
   ]
  },
  {
   "cell_type": "code",
   "execution_count": 20,
   "id": "e2acffae",
   "metadata": {},
   "outputs": [
    {
     "data": {
      "application/vnd.microsoft.datawrangler.viewer.v0+json": {
       "columns": [
        {
         "name": "index",
         "rawType": "int64",
         "type": "integer"
        },
        {
         "name": "product_id",
         "rawType": "object",
         "type": "string"
        },
        {
         "name": "has_urgency_banner",
         "rawType": "float64",
         "type": "float"
        }
       ],
       "ref": "cfbc1c3a-b185-4fec-9a7f-03e3f690ab67",
       "rows": [
        [
         "1569",
         "5eccd22b4497b86fd48f16b4",
         "1.0"
        ],
        [
         "0",
         "5e9ae51d43d6a96e303acdb0",
         "1.0"
        ],
        [
         "1",
         "58940d436a0d3d5da4e95a38",
         "1.0"
        ],
        [
         "2",
         "5ea10e2c617580260d55310a",
         "1.0"
        ],
        [
         "4",
         "5ebf5819ebac372b070b0e70",
         "1.0"
        ],
        [
         "8",
         "5e6f1fb7fe4a5bb4b8bf36e5",
         "1.0"
        ],
        [
         "10",
         "5cac5af68de7960d89e54fe0",
         "1.0"
        ],
        [
         "11",
         "5ec49d527d7044ccfa3f1c04",
         "1.0"
        ],
        [
         "17",
         "5b07a7c6e997b33c6f9947da",
         "1.0"
        ],
        [
         "1510",
         "5df202bb707508021388614a",
         "1.0"
        ]
       ],
       "shape": {
        "columns": 2,
        "rows": 10
       }
      },
      "text/html": [
       "<div>\n",
       "<style scoped>\n",
       "    .dataframe tbody tr th:only-of-type {\n",
       "        vertical-align: middle;\n",
       "    }\n",
       "\n",
       "    .dataframe tbody tr th {\n",
       "        vertical-align: top;\n",
       "    }\n",
       "\n",
       "    .dataframe thead th {\n",
       "        text-align: right;\n",
       "    }\n",
       "</style>\n",
       "<table border=\"1\" class=\"dataframe\">\n",
       "  <thead>\n",
       "    <tr style=\"text-align: right;\">\n",
       "      <th></th>\n",
       "      <th>product_id</th>\n",
       "      <th>has_urgency_banner</th>\n",
       "    </tr>\n",
       "  </thead>\n",
       "  <tbody>\n",
       "    <tr>\n",
       "      <th>1569</th>\n",
       "      <td>5eccd22b4497b86fd48f16b4</td>\n",
       "      <td>1.0</td>\n",
       "    </tr>\n",
       "    <tr>\n",
       "      <th>0</th>\n",
       "      <td>5e9ae51d43d6a96e303acdb0</td>\n",
       "      <td>1.0</td>\n",
       "    </tr>\n",
       "    <tr>\n",
       "      <th>1</th>\n",
       "      <td>58940d436a0d3d5da4e95a38</td>\n",
       "      <td>1.0</td>\n",
       "    </tr>\n",
       "    <tr>\n",
       "      <th>2</th>\n",
       "      <td>5ea10e2c617580260d55310a</td>\n",
       "      <td>1.0</td>\n",
       "    </tr>\n",
       "    <tr>\n",
       "      <th>4</th>\n",
       "      <td>5ebf5819ebac372b070b0e70</td>\n",
       "      <td>1.0</td>\n",
       "    </tr>\n",
       "    <tr>\n",
       "      <th>8</th>\n",
       "      <td>5e6f1fb7fe4a5bb4b8bf36e5</td>\n",
       "      <td>1.0</td>\n",
       "    </tr>\n",
       "    <tr>\n",
       "      <th>10</th>\n",
       "      <td>5cac5af68de7960d89e54fe0</td>\n",
       "      <td>1.0</td>\n",
       "    </tr>\n",
       "    <tr>\n",
       "      <th>11</th>\n",
       "      <td>5ec49d527d7044ccfa3f1c04</td>\n",
       "      <td>1.0</td>\n",
       "    </tr>\n",
       "    <tr>\n",
       "      <th>17</th>\n",
       "      <td>5b07a7c6e997b33c6f9947da</td>\n",
       "      <td>1.0</td>\n",
       "    </tr>\n",
       "    <tr>\n",
       "      <th>1510</th>\n",
       "      <td>5df202bb707508021388614a</td>\n",
       "      <td>1.0</td>\n",
       "    </tr>\n",
       "  </tbody>\n",
       "</table>\n",
       "</div>"
      ],
      "text/plain": [
       "                    product_id  has_urgency_banner\n",
       "1569  5eccd22b4497b86fd48f16b4                 1.0\n",
       "0     5e9ae51d43d6a96e303acdb0                 1.0\n",
       "1     58940d436a0d3d5da4e95a38                 1.0\n",
       "2     5ea10e2c617580260d55310a                 1.0\n",
       "4     5ebf5819ebac372b070b0e70                 1.0\n",
       "8     5e6f1fb7fe4a5bb4b8bf36e5                 1.0\n",
       "10    5cac5af68de7960d89e54fe0                 1.0\n",
       "11    5ec49d527d7044ccfa3f1c04                 1.0\n",
       "17    5b07a7c6e997b33c6f9947da                 1.0\n",
       "1510  5df202bb707508021388614a                 1.0"
      ]
     },
     "execution_count": 20,
     "metadata": {},
     "output_type": "execute_result"
    }
   ],
   "source": [
    "# Prioritize rows with has_urgency_banner == 1\n",
    "df_sorted = df.sort_values(by='has_urgency_banner', ascending=False)\n",
    "\n",
    "# Drop duplicates, keeping the first occurrence which has has_urgency_banner if available\n",
    "df_deduplicated = df_sorted.drop_duplicates(subset='product_id', keep='first')\n",
    "\n",
    "# Check the result\n",
    "df_deduplicated[['product_id', 'has_urgency_banner']].head(10)"
   ]
  },
  {
   "cell_type": "code",
   "execution_count": 21,
   "id": "fa03d496",
   "metadata": {},
   "outputs": [
    {
     "data": {
      "text/plain": [
       "np.int64(0)"
      ]
     },
     "execution_count": 21,
     "metadata": {},
     "output_type": "execute_result"
    }
   ],
   "source": [
    "# Check for duplicate product_id values\n",
    "duplicate_counts = df_deduplicated['product_id'].duplicated().sum()\n",
    "duplicate_counts"
   ]
  },
  {
   "cell_type": "code",
   "execution_count": 22,
   "id": "82f2600c",
   "metadata": {},
   "outputs": [],
   "source": [
    "# Save the modified DataFrame to a new CSV file\n",
    "df = df_deduplicated.reset_index(drop=True)\n",
    "df.to_csv('Final_project.csv',index=False)"
   ]
  },
  {
   "cell_type": "code",
   "execution_count": 23,
   "id": "f2a3f963",
   "metadata": {},
   "outputs": [
    {
     "data": {
      "application/vnd.microsoft.datawrangler.viewer.v0+json": {
       "columns": [
        {
         "name": "index",
         "rawType": "int64",
         "type": "integer"
        },
        {
         "name": "merchant_title",
         "rawType": "object",
         "type": "string"
        },
        {
         "name": "merchant_rating_count",
         "rawType": "int64",
         "type": "integer"
        },
        {
         "name": "merchant_rating",
         "rawType": "float64",
         "type": "float"
        },
        {
         "name": "merchant_rating_range",
         "rawType": "float64",
         "type": "float"
        },
        {
         "name": "merchant_has_profile_picture",
         "rawType": "int64",
         "type": "integer"
        },
        {
         "name": "profile_picture",
         "rawType": "object",
         "type": "string"
        }
       ],
       "ref": "b2a626f6-7af0-47d4-b53d-4d38d19a292d",
       "rows": [
        [
         "0",
         "sell best quality goods",
         "4435",
         "3.696054115",
         "3.5",
         "0",
         "No Profile Picture"
        ],
        [
         "1",
         "zgrdejia",
         "568",
         "4.128521127",
         "4.0",
         "0",
         "No Profile Picture"
        ],
        [
         "2",
         "SaraHouse",
         "17752",
         "3.899673276",
         "4.0",
         "0",
         "No Profile Picture"
        ],
        [
         "3",
         "hxt520",
         "295",
         "3.989830508",
         "4.0",
         "0",
         "No Profile Picture"
        ],
        [
         "4",
         "youngpeopleshop",
         "14482",
         "4.001588178",
         "4.0",
         "0",
         "No Profile Picture"
        ]
       ],
       "shape": {
        "columns": 6,
        "rows": 5
       }
      },
      "text/html": [
       "<div>\n",
       "<style scoped>\n",
       "    .dataframe tbody tr th:only-of-type {\n",
       "        vertical-align: middle;\n",
       "    }\n",
       "\n",
       "    .dataframe tbody tr th {\n",
       "        vertical-align: top;\n",
       "    }\n",
       "\n",
       "    .dataframe thead th {\n",
       "        text-align: right;\n",
       "    }\n",
       "</style>\n",
       "<table border=\"1\" class=\"dataframe\">\n",
       "  <thead>\n",
       "    <tr style=\"text-align: right;\">\n",
       "      <th></th>\n",
       "      <th>merchant_title</th>\n",
       "      <th>merchant_rating_count</th>\n",
       "      <th>merchant_rating</th>\n",
       "      <th>merchant_rating_range</th>\n",
       "      <th>merchant_has_profile_picture</th>\n",
       "      <th>profile_picture</th>\n",
       "    </tr>\n",
       "  </thead>\n",
       "  <tbody>\n",
       "    <tr>\n",
       "      <th>0</th>\n",
       "      <td>sell best quality goods</td>\n",
       "      <td>4435</td>\n",
       "      <td>3.696054</td>\n",
       "      <td>3.5</td>\n",
       "      <td>0</td>\n",
       "      <td>No Profile Picture</td>\n",
       "    </tr>\n",
       "    <tr>\n",
       "      <th>1</th>\n",
       "      <td>zgrdejia</td>\n",
       "      <td>568</td>\n",
       "      <td>4.128521</td>\n",
       "      <td>4.0</td>\n",
       "      <td>0</td>\n",
       "      <td>No Profile Picture</td>\n",
       "    </tr>\n",
       "    <tr>\n",
       "      <th>2</th>\n",
       "      <td>SaraHouse</td>\n",
       "      <td>17752</td>\n",
       "      <td>3.899673</td>\n",
       "      <td>4.0</td>\n",
       "      <td>0</td>\n",
       "      <td>No Profile Picture</td>\n",
       "    </tr>\n",
       "    <tr>\n",
       "      <th>3</th>\n",
       "      <td>hxt520</td>\n",
       "      <td>295</td>\n",
       "      <td>3.989831</td>\n",
       "      <td>4.0</td>\n",
       "      <td>0</td>\n",
       "      <td>No Profile Picture</td>\n",
       "    </tr>\n",
       "    <tr>\n",
       "      <th>4</th>\n",
       "      <td>youngpeopleshop</td>\n",
       "      <td>14482</td>\n",
       "      <td>4.001588</td>\n",
       "      <td>4.0</td>\n",
       "      <td>0</td>\n",
       "      <td>No Profile Picture</td>\n",
       "    </tr>\n",
       "  </tbody>\n",
       "</table>\n",
       "</div>"
      ],
      "text/plain": [
       "            merchant_title  merchant_rating_count  merchant_rating  \\\n",
       "0  sell best quality goods                   4435         3.696054   \n",
       "1                 zgrdejia                    568         4.128521   \n",
       "2                SaraHouse                  17752         3.899673   \n",
       "3                   hxt520                    295         3.989831   \n",
       "4          youngpeopleshop                  14482         4.001588   \n",
       "\n",
       "   merchant_rating_range  merchant_has_profile_picture     profile_picture  \n",
       "0                    3.5                             0  No Profile Picture  \n",
       "1                    4.0                             0  No Profile Picture  \n",
       "2                    4.0                             0  No Profile Picture  \n",
       "3                    4.0                             0  No Profile Picture  \n",
       "4                    4.0                             0  No Profile Picture  "
      ]
     },
     "execution_count": 23,
     "metadata": {},
     "output_type": "execute_result"
    }
   ],
   "source": [
    "# Round merchant_rating to nearest 0.5 and clip between 0 and 5\n",
    "df['merchant_rating_range'] = (df['merchant_rating'] * 2).round() / 2\n",
    "df['merchant_rating_range'] = df['merchant_rating_range'].clip(lower=0, upper=5)\n",
    "\n",
    "# Extract unique merchant info\n",
    "merchant_df = df[['merchant_title', 'merchant_rating_count', 'merchant_rating', 'merchant_rating_range','merchant_has_profile_picture','profile_picture']].drop_duplicates()\n",
    "\n",
    "# Save to a new CSV file\n",
    "merchant_df.to_csv(\"unique_merchants.csv\", index=False)\n",
    "\n",
    "# View the first few rows\n",
    "merchant_df.head()"
   ]
  },
  {
   "cell_type": "code",
   "execution_count": 24,
   "id": "d776331a",
   "metadata": {},
   "outputs": [],
   "source": [
    "\n",
    "order = {'A': 1, 'B': 2, 'C': 3, 'D': 4, 'E': 5, 'No rating':6}\n",
    "order2 = {'0-5': 1, '6-10': 2, '11-15': 3, '16-20': 4, '20+': 5}\n",
    "\n",
    "df['Sortrating'] = df['high_rate_percentage_group'].map(order)\n",
    "df['SortPrice'] = df['price_group'].map(order2) \n",
    "\n",
    "df.to_csv('Final_project.csv',index=False)"
   ]
  },
  {
   "cell_type": "code",
   "execution_count": 25,
   "id": "3ebb0e66",
   "metadata": {},
   "outputs": [
    {
     "name": "stderr",
     "output_type": "stream",
     "text": [
      "C:\\Users\\Acer\\AppData\\Local\\Temp\\ipykernel_245636\\2306047799.py:1: FutureWarning: The default of observed=False is deprecated and will be changed to True in a future version of pandas. Pass observed=False to retain current behavior or observed=True to adopt the future default and silence this warning.\n",
      "  df.groupby('high_rate_percentage_group').agg({'units_sold':'mean','price':'mean','revenue':'mean'}).sort_values('high_rate_percentage_group',ascending=False).round(2)\n"
     ]
    },
    {
     "data": {
      "application/vnd.microsoft.datawrangler.viewer.v0+json": {
       "columns": [
        {
         "name": "high_rate_percentage_group",
         "rawType": "category",
         "type": "unknown"
        },
        {
         "name": "units_sold",
         "rawType": "float64",
         "type": "float"
        },
        {
         "name": "price",
         "rawType": "float64",
         "type": "float"
        },
        {
         "name": "revenue",
         "rawType": "float64",
         "type": "float"
        }
       ],
       "ref": "ad584d38-3b83-4094-815c-1e25678996fe",
       "rows": [
        [
         "No rating",
         "30.74",
         "8.13",
         "251.53"
        ],
        [
         "A",
         "3287.09",
         "8.47",
         "29161.05"
        ],
        [
         "B",
         "5998.36",
         "8.67",
         "48327.32"
        ],
        [
         "C",
         "3966.17",
         "8.07",
         "31258.45"
        ],
        [
         "D",
         "886.83",
         "7.83",
         "9708.98"
        ],
        [
         "E",
         "10.0",
         "18.0",
         "180.0"
        ]
       ],
       "shape": {
        "columns": 3,
        "rows": 6
       }
      },
      "text/html": [
       "<div>\n",
       "<style scoped>\n",
       "    .dataframe tbody tr th:only-of-type {\n",
       "        vertical-align: middle;\n",
       "    }\n",
       "\n",
       "    .dataframe tbody tr th {\n",
       "        vertical-align: top;\n",
       "    }\n",
       "\n",
       "    .dataframe thead th {\n",
       "        text-align: right;\n",
       "    }\n",
       "</style>\n",
       "<table border=\"1\" class=\"dataframe\">\n",
       "  <thead>\n",
       "    <tr style=\"text-align: right;\">\n",
       "      <th></th>\n",
       "      <th>units_sold</th>\n",
       "      <th>price</th>\n",
       "      <th>revenue</th>\n",
       "    </tr>\n",
       "    <tr>\n",
       "      <th>high_rate_percentage_group</th>\n",
       "      <th></th>\n",
       "      <th></th>\n",
       "      <th></th>\n",
       "    </tr>\n",
       "  </thead>\n",
       "  <tbody>\n",
       "    <tr>\n",
       "      <th>No rating</th>\n",
       "      <td>30.74</td>\n",
       "      <td>8.13</td>\n",
       "      <td>251.53</td>\n",
       "    </tr>\n",
       "    <tr>\n",
       "      <th>A</th>\n",
       "      <td>3287.09</td>\n",
       "      <td>8.47</td>\n",
       "      <td>29161.05</td>\n",
       "    </tr>\n",
       "    <tr>\n",
       "      <th>B</th>\n",
       "      <td>5998.36</td>\n",
       "      <td>8.67</td>\n",
       "      <td>48327.32</td>\n",
       "    </tr>\n",
       "    <tr>\n",
       "      <th>C</th>\n",
       "      <td>3966.17</td>\n",
       "      <td>8.07</td>\n",
       "      <td>31258.45</td>\n",
       "    </tr>\n",
       "    <tr>\n",
       "      <th>D</th>\n",
       "      <td>886.83</td>\n",
       "      <td>7.83</td>\n",
       "      <td>9708.98</td>\n",
       "    </tr>\n",
       "    <tr>\n",
       "      <th>E</th>\n",
       "      <td>10.00</td>\n",
       "      <td>18.00</td>\n",
       "      <td>180.00</td>\n",
       "    </tr>\n",
       "  </tbody>\n",
       "</table>\n",
       "</div>"
      ],
      "text/plain": [
       "                            units_sold  price   revenue\n",
       "high_rate_percentage_group                             \n",
       "No rating                        30.74   8.13    251.53\n",
       "A                              3287.09   8.47  29161.05\n",
       "B                              5998.36   8.67  48327.32\n",
       "C                              3966.17   8.07  31258.45\n",
       "D                               886.83   7.83   9708.98\n",
       "E                                10.00  18.00    180.00"
      ]
     },
     "execution_count": 25,
     "metadata": {},
     "output_type": "execute_result"
    }
   ],
   "source": [
    "df.groupby('high_rate_percentage_group').agg({'units_sold':'mean','price':'mean','revenue':'mean'}).sort_values('high_rate_percentage_group',ascending=False).round(2)"
   ]
  },
  {
   "cell_type": "code",
   "execution_count": 26,
   "id": "2652f55b",
   "metadata": {},
   "outputs": [
    {
     "data": {
      "image/png": "[encoded data removed]",
      "text/plain": [
       "<Figure size 600x400 with 2 Axes>"
      ]
     },
     "metadata": {},
     "output_type": "display_data"
    }
   ],
   "source": [
    "# Calculate correlation matrix for the two columns\n",
    "correlation = df[['merchant_rating_range', 'units_sold']].corr()\n",
    "\n",
    "# Create a heatmap\n",
    "plt.figure(figsize=(6, 4))\n",
    "sns.heatmap(correlation, annot=True, cmap='coolwarm', fmt=\".2f\")\n",
    "plt.title(\"Correlation Heatmap: merchant_rating_range vs units_sold\")\n",
    "plt.tight_layout()\n",
    "\n",
    "# Show plot\n",
    "plt.show()"
   ]
  },
  {
   "cell_type": "code",
   "execution_count": 27,
   "id": "4f2195f5",
   "metadata": {},
   "outputs": [
    {
     "name": "stdout",
     "output_type": "stream",
     "text": [
      "Correlation between 'price_difference' and 'units_sold':\n",
      "                  price_difference  units_sold\n",
      "price_difference          1.000000   -0.015017\n",
      "units_sold               -0.015017    1.000000\n"
     ]
    },
    {
     "data": {
      "image/png": "[encoded data removed]",
      "text/plain": [
       "<Figure size 600x400 with 2 Axes>"
      ]
     },
     "metadata": {},
     "output_type": "display_data"
    }
   ],
   "source": [
    "# Calculate correlation\n",
    "correlation = df[['price_difference', 'units_sold']].corr()\n",
    "\n",
    "# Print correlation value\n",
    "print(\"Correlation between 'price_difference' and 'units_sold':\")\n",
    "print(correlation)\n",
    "\n",
    "# Plot heatmap\n",
    "plt.figure(figsize=(6, 4))\n",
    "sns.heatmap(correlation, annot=True, cmap='coolwarm', fmt=\".2f\")\n",
    "plt.title(\"Correlation Heatmap: Price Different vs Units Sold\")\n",
    "plt.tight_layout()\n",
    "plt.show()"
   ]
  },
  {
   "cell_type": "code",
   "execution_count": 38,
   "id": "ad14847a",
   "metadata": {},
   "outputs": [
    {
     "name": "stdout",
     "output_type": "stream",
     "text": [
      "Correlation between average product rating and merchant rating: 0.2708\n"
     ]
    },
    {
     "data": {
      "image/png": "[encoded data removed]",
      "text/plain": [
       "<Figure size 640x480 with 1 Axes>"
      ]
     },
     "metadata": {},
     "output_type": "display_data"
    }
   ],
   "source": [
    "# Drop missing values\n",
    "df = df.dropna(subset=[\"merchant_title\", \"product_id\", \"rating\", \"merchant_rating\"])\n",
    "\n",
    "# Convert ratings to numeric\n",
    "df[\"rating\"] = pd.to_numeric(df[\"rating\"], errors=\"coerce\")\n",
    "df[\"merchant_rating\"] = pd.to_numeric(df[\"merchant_rating\"], errors=\"coerce\")\n",
    "\n",
    "# Calculate the average product rating per merchant by grouping by merchant_title\n",
    "avg_product_rating = df.groupby(\"merchant_title\")[\"rating\"].mean().reset_index()\n",
    "\n",
    "# Ensure merchant rating is unique per store\n",
    "merchant_rating = df.groupby(\"merchant_title\")[\"merchant_rating\"].mean().reset_index()\n",
    "\n",
    "# Merge the datasets\n",
    "merged_df = avg_product_rating.merge(merchant_rating, on=\"merchant_title\")\n",
    "\n",
    "# Compute correlation\n",
    "correlation = merged_df[\"rating\"].corr(merged_df[\"merchant_rating\"])\n",
    "print(f\"Correlation between average product rating and merchant rating: {correlation:.4f}\")\n",
    "\n",
    "# Visualize the relationship\n",
    "sns.scatterplot(data=merged_df, x=\"rating\", y=\"merchant_rating\")\n",
    "plt.title(\"Average Product Rating vs Merchant Rating\")\n",
    "plt.xlabel(\"Average Product Rating (per Merchant)\")\n",
    "plt.ylabel(\"Merchant Rating\")\n",
    "plt.show()"
   ]
  },
  {
   "cell_type": "markdown",
   "id": "786281ad",
   "metadata": {},
   "source": [
    "# Geographic & Consumer behavior"
   ]
  },
  {
   "cell_type": "markdown",
   "id": "d1c54b11",
   "metadata": {},
   "source": [
    "Compare product by origin"
   ]
  },
  {
   "cell_type": "code",
   "execution_count": 29,
   "id": "6e70522f",
   "metadata": {},
   "outputs": [
    {
     "data": {
      "application/vnd.microsoft.datawrangler.viewer.v0+json": {
       "columns": [
        {
         "name": "origin_country",
         "rawType": "object",
         "type": "string"
        },
        {
         "name": "rating",
         "rawType": "float64",
         "type": "float"
        },
        {
         "name": "revenue",
         "rawType": "float64",
         "type": "float"
        },
        {
         "name": "units_sold",
         "rawType": "int64",
         "type": "integer"
        }
       ],
       "ref": "6c3a6bd2-95ca-4553-a303-3777cabdb5eb",
       "rows": [
        [
         "AT",
         "5.0",
         "700.0",
         "100"
        ],
        [
         "CN",
         "3.842921174652241",
         "39482.42886398764",
         "6291349"
        ],
        [
         "GB",
         "4.03",
         "9000.0",
         "1000"
        ],
        [
         "SG",
         "4.01",
         "28496.5",
         "20100"
        ],
        [
         "US",
         "3.7955555555555556",
         "15880.444444444445",
         "43210"
        ],
        [
         "VE",
         "3.1466666666666665",
         "980.5",
         "250"
        ]
       ],
       "shape": {
        "columns": 3,
        "rows": 6
       }
      },
      "text/html": [
       "<div>\n",
       "<style scoped>\n",
       "    .dataframe tbody tr th:only-of-type {\n",
       "        vertical-align: middle;\n",
       "    }\n",
       "\n",
       "    .dataframe tbody tr th {\n",
       "        vertical-align: top;\n",
       "    }\n",
       "\n",
       "    .dataframe thead th {\n",
       "        text-align: right;\n",
       "    }\n",
       "</style>\n",
       "<table border=\"1\" class=\"dataframe\">\n",
       "  <thead>\n",
       "    <tr style=\"text-align: right;\">\n",
       "      <th></th>\n",
       "      <th>rating</th>\n",
       "      <th>revenue</th>\n",
       "      <th>units_sold</th>\n",
       "    </tr>\n",
       "    <tr>\n",
       "      <th>origin_country</th>\n",
       "      <th></th>\n",
       "      <th></th>\n",
       "      <th></th>\n",
       "    </tr>\n",
       "  </thead>\n",
       "  <tbody>\n",
       "    <tr>\n",
       "      <th>AT</th>\n",
       "      <td>5.000000</td>\n",
       "      <td>700.000000</td>\n",
       "      <td>100</td>\n",
       "    </tr>\n",
       "    <tr>\n",
       "      <th>CN</th>\n",
       "      <td>3.842921</td>\n",
       "      <td>39482.428864</td>\n",
       "      <td>6291349</td>\n",
       "    </tr>\n",
       "    <tr>\n",
       "      <th>GB</th>\n",
       "      <td>4.030000</td>\n",
       "      <td>9000.000000</td>\n",
       "      <td>1000</td>\n",
       "    </tr>\n",
       "    <tr>\n",
       "      <th>SG</th>\n",
       "      <td>4.010000</td>\n",
       "      <td>28496.500000</td>\n",
       "      <td>20100</td>\n",
       "    </tr>\n",
       "    <tr>\n",
       "      <th>US</th>\n",
       "      <td>3.795556</td>\n",
       "      <td>15880.444444</td>\n",
       "      <td>43210</td>\n",
       "    </tr>\n",
       "    <tr>\n",
       "      <th>VE</th>\n",
       "      <td>3.146667</td>\n",
       "      <td>980.500000</td>\n",
       "      <td>250</td>\n",
       "    </tr>\n",
       "  </tbody>\n",
       "</table>\n",
       "</div>"
      ],
      "text/plain": [
       "                  rating       revenue  units_sold\n",
       "origin_country                                    \n",
       "AT              5.000000    700.000000         100\n",
       "CN              3.842921  39482.428864     6291349\n",
       "GB              4.030000   9000.000000        1000\n",
       "SG              4.010000  28496.500000       20100\n",
       "US              3.795556  15880.444444       43210\n",
       "VE              3.146667    980.500000         250"
      ]
     },
     "execution_count": 29,
     "metadata": {},
     "output_type": "execute_result"
    }
   ],
   "source": [
    "df.groupby('origin_country').agg({'rating':'mean','revenue':'mean'\n",
    "                                         ,'units_sold':'sum'})\n",
    "# CN: China, GB: Greatest British, SG: Singapore, US: USA, VE: \n"
   ]
  },
  {
   "cell_type": "markdown",
   "id": "afdf0c5e",
   "metadata": {},
   "source": [
    "Shipping speed and option by origin country"
   ]
  },
  {
   "cell_type": "code",
   "execution_count": 30,
   "id": "81dc747b",
   "metadata": {},
   "outputs": [
    {
     "data": {
      "application/vnd.microsoft.datawrangler.viewer.v0+json": {
       "columns": [
        {
         "name": "index",
         "rawType": "int64",
         "type": "integer"
        },
        {
         "name": "shipping_option_name",
         "rawType": "object",
         "type": "string"
        },
        {
         "name": "shipping_is_express",
         "rawType": "int64",
         "type": "integer"
        },
        {
         "name": "shipping_option_price",
         "rawType": "int64",
         "type": "integer"
        },
        {
         "name": "countries_shipped_to",
         "rawType": "int64",
         "type": "integer"
        },
        {
         "name": "origin_country_name",
         "rawType": "object",
         "type": "string"
        },
        {
         "name": "rating",
         "rawType": "float64",
         "type": "float"
        }
       ],
       "ref": "37180a42-2b25-45fb-9354-6a889f24c8f4",
       "rows": [
        [
         "312",
         "Ekspresowa wysyłka",
         "1",
         "7",
         "39",
         "China",
         "4.29"
        ],
        [
         "844",
         "Livraison Express",
         "1",
         "7",
         "41",
         "China",
         "2.79"
        ],
        [
         "883",
         "Livraison Express",
         "1",
         "12",
         "41",
         "China",
         "4.67"
        ],
        [
         "940",
         "Livraison Express",
         "1",
         "6",
         "43",
         "China",
         "4.52"
        ]
       ],
       "shape": {
        "columns": 6,
        "rows": 4
       }
      },
      "text/html": [
       "<div>\n",
       "<style scoped>\n",
       "    .dataframe tbody tr th:only-of-type {\n",
       "        vertical-align: middle;\n",
       "    }\n",
       "\n",
       "    .dataframe tbody tr th {\n",
       "        vertical-align: top;\n",
       "    }\n",
       "\n",
       "    .dataframe thead th {\n",
       "        text-align: right;\n",
       "    }\n",
       "</style>\n",
       "<table border=\"1\" class=\"dataframe\">\n",
       "  <thead>\n",
       "    <tr style=\"text-align: right;\">\n",
       "      <th></th>\n",
       "      <th>shipping_option_name</th>\n",
       "      <th>shipping_is_express</th>\n",
       "      <th>shipping_option_price</th>\n",
       "      <th>countries_shipped_to</th>\n",
       "      <th>origin_country_name</th>\n",
       "      <th>rating</th>\n",
       "    </tr>\n",
       "  </thead>\n",
       "  <tbody>\n",
       "    <tr>\n",
       "      <th>312</th>\n",
       "      <td>Ekspresowa wysyłka</td>\n",
       "      <td>1</td>\n",
       "      <td>7</td>\n",
       "      <td>39</td>\n",
       "      <td>China</td>\n",
       "      <td>4.29</td>\n",
       "    </tr>\n",
       "    <tr>\n",
       "      <th>844</th>\n",
       "      <td>Livraison Express</td>\n",
       "      <td>1</td>\n",
       "      <td>7</td>\n",
       "      <td>41</td>\n",
       "      <td>China</td>\n",
       "      <td>2.79</td>\n",
       "    </tr>\n",
       "    <tr>\n",
       "      <th>883</th>\n",
       "      <td>Livraison Express</td>\n",
       "      <td>1</td>\n",
       "      <td>12</td>\n",
       "      <td>41</td>\n",
       "      <td>China</td>\n",
       "      <td>4.67</td>\n",
       "    </tr>\n",
       "    <tr>\n",
       "      <th>940</th>\n",
       "      <td>Livraison Express</td>\n",
       "      <td>1</td>\n",
       "      <td>6</td>\n",
       "      <td>43</td>\n",
       "      <td>China</td>\n",
       "      <td>4.52</td>\n",
       "    </tr>\n",
       "  </tbody>\n",
       "</table>\n",
       "</div>"
      ],
      "text/plain": [
       "    shipping_option_name  shipping_is_express  shipping_option_price  \\\n",
       "312   Ekspresowa wysyłka                    1                      7   \n",
       "844    Livraison Express                    1                      7   \n",
       "883    Livraison Express                    1                     12   \n",
       "940    Livraison Express                    1                      6   \n",
       "\n",
       "     countries_shipped_to origin_country_name  rating  \n",
       "312                    39               China    4.29  \n",
       "844                    41               China    2.79  \n",
       "883                    41               China    4.67  \n",
       "940                    43               China    4.52  "
      ]
     },
     "execution_count": 30,
     "metadata": {},
     "output_type": "execute_result"
    }
   ],
   "source": [
    "where = df['shipping_is_express'] == 1\n",
    "df[where][['shipping_option_name','shipping_is_express','shipping_option_price','countries_shipped_to','origin_country_name','rating']]"
   ]
  },
  {
   "cell_type": "markdown",
   "id": "ce520068",
   "metadata": {},
   "source": [
    "Product review"
   ]
  },
  {
   "cell_type": "code",
   "execution_count": 31,
   "id": "d822372d",
   "metadata": {},
   "outputs": [
    {
     "data": {
      "image/png": "[encoded data removed]",
      "text/plain": [
       "<Figure size 800x600 with 2 Axes>"
      ]
     },
     "metadata": {},
     "output_type": "display_data"
    }
   ],
   "source": [
    "\n",
    "corr=df[['units_sold','rating', 'rating_count', 'rating_five_count','rating_five_count',\n",
    "         'rating_three_count','rating_two_count' ,'rating_one_count']].corr()\n",
    "plt.figure(figsize=(8,6))\n",
    "sns.heatmap(corr, annot=True, cmap=\"YlGnBu\", fmt=\".2f\")\n",
    "plt.title(\"Correlation Heatmap\")\n",
    "plt.show()\n"
   ]
  },
  {
   "cell_type": "markdown",
   "id": "59ec6186",
   "metadata": {},
   "source": [
    "Inventory and consume pattern"
   ]
  },
  {
   "cell_type": "code",
   "execution_count": 32,
   "id": "f1a87589",
   "metadata": {},
   "outputs": [
    {
     "name": "stderr",
     "output_type": "stream",
     "text": [
      "C:\\Users\\Acer\\AppData\\Local\\Temp\\ipykernel_245636\\2870090436.py:8: DeprecationWarning: DataFrameGroupBy.apply operated on the grouping columns. This behavior is deprecated, and in a future version of pandas the grouping columns will be excluded from the operation. Either pass `include_groups=False` to exclude the groupings or explicitly select the grouping columns after groupby to silence this warning.\n",
      "  result = df.groupby('product_variation_inventory').apply(remove_outliers_and_calc_mean).sort_values(ascending=False)\n"
     ]
    },
    {
     "data": {
      "application/vnd.microsoft.datawrangler.viewer.v0+json": {
       "columns": [
        {
         "name": "index",
         "rawType": "object",
         "type": "unknown"
        },
        {
         "name": "product_variation_inventory",
         "rawType": "float64",
         "type": "float"
        },
        {
         "name": "0",
         "rawType": "float64",
         "type": "float"
        }
       ],
       "ref": "13809dab-6e35-45ff-8856-fe7323d85c4c",
       "rows": [
        [
         "product_variation_inventory",
         "1.0",
         "0.130655632970258"
        ],
        [
         "0",
         "0.130655632970258",
         "1.0"
        ]
       ],
       "shape": {
        "columns": 2,
        "rows": 2
       }
      },
      "text/html": [
       "<div>\n",
       "<style scoped>\n",
       "    .dataframe tbody tr th:only-of-type {\n",
       "        vertical-align: middle;\n",
       "    }\n",
       "\n",
       "    .dataframe tbody tr th {\n",
       "        vertical-align: top;\n",
       "    }\n",
       "\n",
       "    .dataframe thead th {\n",
       "        text-align: right;\n",
       "    }\n",
       "</style>\n",
       "<table border=\"1\" class=\"dataframe\">\n",
       "  <thead>\n",
       "    <tr style=\"text-align: right;\">\n",
       "      <th></th>\n",
       "      <th>product_variation_inventory</th>\n",
       "      <th>0</th>\n",
       "    </tr>\n",
       "  </thead>\n",
       "  <tbody>\n",
       "    <tr>\n",
       "      <th>product_variation_inventory</th>\n",
       "      <td>1.000000</td>\n",
       "      <td>0.130656</td>\n",
       "    </tr>\n",
       "    <tr>\n",
       "      <th>0</th>\n",
       "      <td>0.130656</td>\n",
       "      <td>1.000000</td>\n",
       "    </tr>\n",
       "  </tbody>\n",
       "</table>\n",
       "</div>"
      ],
      "text/plain": [
       "                             product_variation_inventory         0\n",
       "product_variation_inventory                     1.000000  0.130656\n",
       "0                                               0.130656  1.000000"
      ]
     },
     "execution_count": 32,
     "metadata": {},
     "output_type": "execute_result"
    }
   ],
   "source": [
    "def remove_outliers_and_calc_mean(group):\n",
    "    Q1 = group['units_sold'].quantile(0.25)\n",
    "    Q3 = group['units_sold'].quantile(0.75)\n",
    "    IQR = Q3 - Q1\n",
    "    filtered = group[(group['units_sold'] >= Q1 - 1.5 * IQR) & (group['units_sold'] <= Q3 + 1.5 * IQR)]\n",
    "    return filtered['units_sold'].mean()\n",
    "\n",
    "result = df.groupby('product_variation_inventory').apply(remove_outliers_and_calc_mean).sort_values(ascending=False)\n",
    "result = result.reset_index()\n",
    "result.corr()\n"
   ]
  },
  {
   "cell_type": "code",
   "execution_count": 33,
   "id": "bb304869",
   "metadata": {},
   "outputs": [
    {
     "data": {
      "application/vnd.microsoft.datawrangler.viewer.v0+json": {
       "columns": [
        {
         "name": "index",
         "rawType": "int64",
         "type": "integer"
        },
        {
         "name": "badge_local_product",
         "rawType": "int64",
         "type": "integer"
        },
        {
         "name": "units_sold",
         "rawType": "int64",
         "type": "integer"
        }
       ],
       "ref": "aca19fbd-bd07-4c59-bf9b-0a6ce5836809",
       "rows": [
        [
         "0",
         "0",
         "100"
        ],
        [
         "1",
         "0",
         "100"
        ],
        [
         "2",
         "0",
         "20000"
        ],
        [
         "3",
         "0",
         "100"
        ],
        [
         "4",
         "0",
         "100"
        ],
        [
         "5",
         "0",
         "100"
        ],
        [
         "6",
         "0",
         "1000"
        ],
        [
         "7",
         "0",
         "100"
        ],
        [
         "8",
         "0",
         "100000"
        ],
        [
         "9",
         "0",
         "1000"
        ],
        [
         "10",
         "0",
         "5000"
        ],
        [
         "11",
         "0",
         "10000"
        ],
        [
         "12",
         "0",
         "5000"
        ],
        [
         "13",
         "0",
         "100"
        ],
        [
         "14",
         "0",
         "50"
        ],
        [
         "15",
         "0",
         "1000"
        ],
        [
         "16",
         "0",
         "10000"
        ],
        [
         "17",
         "0",
         "10000"
        ],
        [
         "18",
         "0",
         "50000"
        ],
        [
         "19",
         "0",
         "10000"
        ],
        [
         "20",
         "0",
         "1000"
        ],
        [
         "21",
         "0",
         "100"
        ],
        [
         "22",
         "0",
         "100"
        ],
        [
         "23",
         "0",
         "5000"
        ],
        [
         "24",
         "0",
         "50"
        ],
        [
         "25",
         "0",
         "5000"
        ],
        [
         "26",
         "0",
         "20000"
        ],
        [
         "27",
         "0",
         "1000"
        ],
        [
         "28",
         "0",
         "100"
        ],
        [
         "29",
         "0",
         "5000"
        ],
        [
         "30",
         "0",
         "20000"
        ],
        [
         "31",
         "0",
         "5000"
        ],
        [
         "32",
         "0",
         "5000"
        ],
        [
         "33",
         "0",
         "5000"
        ],
        [
         "34",
         "0",
         "10000"
        ],
        [
         "35",
         "0",
         "100"
        ],
        [
         "36",
         "0",
         "5000"
        ],
        [
         "37",
         "0",
         "1000"
        ],
        [
         "38",
         "0",
         "100"
        ],
        [
         "39",
         "0",
         "100"
        ],
        [
         "40",
         "0",
         "100"
        ],
        [
         "41",
         "0",
         "1000"
        ],
        [
         "42",
         "0",
         "10"
        ],
        [
         "43",
         "0",
         "100"
        ],
        [
         "44",
         "0",
         "5000"
        ],
        [
         "45",
         "0",
         "100"
        ],
        [
         "46",
         "0",
         "100"
        ],
        [
         "47",
         "0",
         "1000"
        ],
        [
         "48",
         "0",
         "50"
        ],
        [
         "49",
         "0",
         "1000"
        ]
       ],
       "shape": {
        "columns": 2,
        "rows": 1313
       }
      },
      "text/html": [
       "<div>\n",
       "<style scoped>\n",
       "    .dataframe tbody tr th:only-of-type {\n",
       "        vertical-align: middle;\n",
       "    }\n",
       "\n",
       "    .dataframe tbody tr th {\n",
       "        vertical-align: top;\n",
       "    }\n",
       "\n",
       "    .dataframe thead th {\n",
       "        text-align: right;\n",
       "    }\n",
       "</style>\n",
       "<table border=\"1\" class=\"dataframe\">\n",
       "  <thead>\n",
       "    <tr style=\"text-align: right;\">\n",
       "      <th></th>\n",
       "      <th>badge_local_product</th>\n",
       "      <th>units_sold</th>\n",
       "    </tr>\n",
       "  </thead>\n",
       "  <tbody>\n",
       "    <tr>\n",
       "      <th>0</th>\n",
       "      <td>0</td>\n",
       "      <td>100</td>\n",
       "    </tr>\n",
       "    <tr>\n",
       "      <th>1</th>\n",
       "      <td>0</td>\n",
       "      <td>100</td>\n",
       "    </tr>\n",
       "    <tr>\n",
       "      <th>2</th>\n",
       "      <td>0</td>\n",
       "      <td>20000</td>\n",
       "    </tr>\n",
       "    <tr>\n",
       "      <th>3</th>\n",
       "      <td>0</td>\n",
       "      <td>100</td>\n",
       "    </tr>\n",
       "    <tr>\n",
       "      <th>4</th>\n",
       "      <td>0</td>\n",
       "      <td>100</td>\n",
       "    </tr>\n",
       "    <tr>\n",
       "      <th>...</th>\n",
       "      <td>...</td>\n",
       "      <td>...</td>\n",
       "    </tr>\n",
       "    <tr>\n",
       "      <th>1336</th>\n",
       "      <td>0</td>\n",
       "      <td>100</td>\n",
       "    </tr>\n",
       "    <tr>\n",
       "      <th>1337</th>\n",
       "      <td>0</td>\n",
       "      <td>20000</td>\n",
       "    </tr>\n",
       "    <tr>\n",
       "      <th>1338</th>\n",
       "      <td>0</td>\n",
       "      <td>10000</td>\n",
       "    </tr>\n",
       "    <tr>\n",
       "      <th>1339</th>\n",
       "      <td>0</td>\n",
       "      <td>100</td>\n",
       "    </tr>\n",
       "    <tr>\n",
       "      <th>1340</th>\n",
       "      <td>0</td>\n",
       "      <td>100</td>\n",
       "    </tr>\n",
       "  </tbody>\n",
       "</table>\n",
       "<p>1313 rows × 2 columns</p>\n",
       "</div>"
      ],
      "text/plain": [
       "      badge_local_product  units_sold\n",
       "0                       0         100\n",
       "1                       0         100\n",
       "2                       0       20000\n",
       "3                       0         100\n",
       "4                       0         100\n",
       "...                   ...         ...\n",
       "1336                    0         100\n",
       "1337                    0       20000\n",
       "1338                    0       10000\n",
       "1339                    0         100\n",
       "1340                    0         100\n",
       "\n",
       "[1313 rows x 2 columns]"
      ]
     },
     "execution_count": 33,
     "metadata": {},
     "output_type": "execute_result"
    }
   ],
   "source": [
    "where = df['badge_local_product']==0\n",
    "df['badge_local_product'].value_counts()\n",
    "df[where][['badge_local_product','units_sold']]"
   ]
  },
  {
   "cell_type": "markdown",
   "id": "8c7b53ff",
   "metadata": {},
   "source": [
    "# opperate"
   ]
  },
  {
   "cell_type": "markdown",
   "id": "7aa1bcd6",
   "metadata": {},
   "source": [
    "purchasing percentage by shipping price"
   ]
  },
  {
   "cell_type": "code",
   "execution_count": 34,
   "id": "3e82cb5a",
   "metadata": {},
   "outputs": [
    {
     "data": {
      "application/vnd.microsoft.datawrangler.viewer.v0+json": {
       "columns": [
        {
         "name": "index",
         "rawType": "object",
         "type": "string"
        },
        {
         "name": "shipping_option_price",
         "rawType": "float64",
         "type": "float"
        },
        {
         "name": "units_sold",
         "rawType": "float64",
         "type": "float"
        }
       ],
       "ref": "53488c3c-e6d6-47f3-8d05-c325be35928b",
       "rows": [
        [
         "shipping_option_price",
         "1.0",
         "-0.6751985969487858"
        ],
        [
         "units_sold",
         "-0.6751985969487858",
         "1.0"
        ]
       ],
       "shape": {
        "columns": 2,
        "rows": 2
       }
      },
      "text/html": [
       "<div>\n",
       "<style scoped>\n",
       "    .dataframe tbody tr th:only-of-type {\n",
       "        vertical-align: middle;\n",
       "    }\n",
       "\n",
       "    .dataframe tbody tr th {\n",
       "        vertical-align: top;\n",
       "    }\n",
       "\n",
       "    .dataframe thead th {\n",
       "        text-align: right;\n",
       "    }\n",
       "</style>\n",
       "<table border=\"1\" class=\"dataframe\">\n",
       "  <thead>\n",
       "    <tr style=\"text-align: right;\">\n",
       "      <th></th>\n",
       "      <th>shipping_option_price</th>\n",
       "      <th>units_sold</th>\n",
       "    </tr>\n",
       "  </thead>\n",
       "  <tbody>\n",
       "    <tr>\n",
       "      <th>shipping_option_price</th>\n",
       "      <td>1.000000</td>\n",
       "      <td>-0.675199</td>\n",
       "    </tr>\n",
       "    <tr>\n",
       "      <th>units_sold</th>\n",
       "      <td>-0.675199</td>\n",
       "      <td>1.000000</td>\n",
       "    </tr>\n",
       "  </tbody>\n",
       "</table>\n",
       "</div>"
      ],
      "text/plain": [
       "                       shipping_option_price  units_sold\n",
       "shipping_option_price               1.000000   -0.675199\n",
       "units_sold                         -0.675199    1.000000"
      ]
     },
     "execution_count": 34,
     "metadata": {},
     "output_type": "execute_result"
    }
   ],
   "source": [
    "df.groupby('shipping_option_price')['units_sold'].sum().reset_index().corr()"
   ]
  },
  {
   "cell_type": "markdown",
   "id": "b0ddf6de",
   "metadata": {},
   "source": [
    "할인 전략의 효율성"
   ]
  },
  {
   "cell_type": "markdown",
   "id": "5b257e78",
   "metadata": {},
   "source": [
    "상품 품질과 리뷰 관리"
   ]
  },
  {
   "cell_type": "markdown",
   "id": "2a12456b",
   "metadata": {},
   "source": [
    "merchant review"
   ]
  },
  {
   "cell_type": "code",
   "execution_count": 35,
   "id": "adf7f4a4",
   "metadata": {},
   "outputs": [
    {
     "data": {
      "application/vnd.microsoft.datawrangler.viewer.v0+json": {
       "columns": [
        {
         "name": "merchant_has_profile_picture",
         "rawType": "int64",
         "type": "integer"
        },
        {
         "name": "merchant_rating",
         "rawType": "float64",
         "type": "float"
        },
        {
         "name": "merchant_rating_count",
         "rawType": "float64",
         "type": "float"
        },
        {
         "name": "units_sold",
         "rawType": "float64",
         "type": "float"
        }
       ],
       "ref": "29232716-eba4-4bd1-9056-edfde63190e5",
       "rows": [
        [
         "0",
         "4.03",
         "24237.47",
         "4212.72"
        ],
        [
         "1",
         "4.08",
         "48257.6",
         "8228.75"
        ]
       ],
       "shape": {
        "columns": 3,
        "rows": 2
       }
      },
      "text/html": [
       "<div>\n",
       "<style scoped>\n",
       "    .dataframe tbody tr th:only-of-type {\n",
       "        vertical-align: middle;\n",
       "    }\n",
       "\n",
       "    .dataframe tbody tr th {\n",
       "        vertical-align: top;\n",
       "    }\n",
       "\n",
       "    .dataframe thead th {\n",
       "        text-align: right;\n",
       "    }\n",
       "</style>\n",
       "<table border=\"1\" class=\"dataframe\">\n",
       "  <thead>\n",
       "    <tr style=\"text-align: right;\">\n",
       "      <th></th>\n",
       "      <th>merchant_rating</th>\n",
       "      <th>merchant_rating_count</th>\n",
       "      <th>units_sold</th>\n",
       "    </tr>\n",
       "    <tr>\n",
       "      <th>merchant_has_profile_picture</th>\n",
       "      <th></th>\n",
       "      <th></th>\n",
       "      <th></th>\n",
       "    </tr>\n",
       "  </thead>\n",
       "  <tbody>\n",
       "    <tr>\n",
       "      <th>0</th>\n",
       "      <td>4.03</td>\n",
       "      <td>24237.47</td>\n",
       "      <td>4212.72</td>\n",
       "    </tr>\n",
       "    <tr>\n",
       "      <th>1</th>\n",
       "      <td>4.08</td>\n",
       "      <td>48257.60</td>\n",
       "      <td>8228.75</td>\n",
       "    </tr>\n",
       "  </tbody>\n",
       "</table>\n",
       "</div>"
      ],
      "text/plain": [
       "                              merchant_rating  merchant_rating_count  \\\n",
       "merchant_has_profile_picture                                           \n",
       "0                                        4.03               24237.47   \n",
       "1                                        4.08               48257.60   \n",
       "\n",
       "                              units_sold  \n",
       "merchant_has_profile_picture              \n",
       "0                                4212.72  \n",
       "1                                8228.75  "
      ]
     },
     "execution_count": 35,
     "metadata": {},
     "output_type": "execute_result"
    }
   ],
   "source": [
    "df.groupby('merchant_has_profile_picture').agg({'merchant_rating':'mean', 'merchant_rating_count':'mean','units_sold':'mean'}).round(2)"
   ]
  }
 ],
 "metadata": {
  "kernelspec": {
   "display_name": "Python 3",
   "language": "python",
   "name": "python3"
  },
  "language_info": {
   "codemirror_mode": {
    "name": "ipython",
    "version": 3
   },
   "file_extension": ".py",
   "mimetype": "text/x-python",
   "name": "python",
   "nbconvert_exporter": "python",
   "pygments_lexer": "ipython3",
   "version": "3.13.3"
  }
 },
 "nbformat": 4,
 "nbformat_minor": 5
}
